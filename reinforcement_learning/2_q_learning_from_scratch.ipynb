{
 "cells": [
  {
   "cell_type": "code",
   "execution_count": 26,
   "id": "1eb34096",
   "metadata": {},
   "outputs": [
    {
     "name": "stdout",
     "output_type": "stream",
     "text": [
      "[[-100. -100. -100. -100. -100.  100. -100. -100. -100. -100. -100.]\n",
      " [-100.   -1.   -1.   -1.   -1.   -1.   -1.   -1.   -1.   -1. -100.]\n",
      " [-100.   -1. -100. -100. -100. -100. -100.   -1. -100.   -1. -100.]\n",
      " [-100.   -1.   -1.   -1.   -1.   -1.   -1.   -1. -100.   -1. -100.]\n",
      " [-100. -100. -100.   -1. -100. -100. -100.   -1. -100. -100. -100.]\n",
      " [  -1.   -1.   -1.   -1.   -1.   -1.   -1.   -1.   -1.   -1.   -1.]\n",
      " [-100. -100. -100. -100. -100.   -1. -100. -100. -100. -100. -100.]\n",
      " [-100.   -1.   -1.   -1.   -1.   -1.   -1.   -1.   -1.   -1. -100.]\n",
      " [-100. -100. -100.   -1. -100. -100. -100.   -1. -100. -100. -100.]\n",
      " [  -1.   -1.   -1.   -1.   -1.   -1.   -1.   -1.   -1.   -1.   -1.]\n",
      " [-100. -100. -100. -100. -100. -100. -100. -100. -100. -100. -100.]]\n"
     ]
    }
   ],
   "source": [
    "#https://www.youtube.com/watch?v=iKdlKYG78j4\n",
    "import numpy as np\n",
    "\n",
    "num_rows = 11\n",
    "num_cols = 11\n",
    "\n",
    "epsilon = 0.9\n",
    "discount_factor = 0.9\n",
    "learning_rate = 0.9\n",
    "\n",
    "q_values = np.zeros((num_rows, num_cols,4))\n",
    "rewards = np.genfromtxt('rewards.csv', dtype=float, delimiter=',')\n",
    "\n",
    "print(rewards)"
   ]
  },
  {
   "cell_type": "code",
   "execution_count": 27,
   "id": "0e2d685a",
   "metadata": {},
   "outputs": [],
   "source": [
    "#returns true if reward is 100 or -100 and false when reward is -1\n",
    "def is_terminal_state(row_index,col_index):\n",
    "    if rewards[row_index,col_index] == -1.:\n",
    "        return False\n",
    "    else:\n",
    "        return True\n",
    "\n",
    "#randomly picks a starting location that is not a terminal state\n",
    "#modification from video: avoid repeat of randint\n",
    "def get_starting_location():\n",
    "    \n",
    "    while True:\n",
    "        row_index = np.random.randint(num_rows)\n",
    "        col_index = np.random.randint(num_cols)\n",
    "        \n",
    "        if not is_terminal_state(row_index,col_index):\n",
    "            break\n",
    "    \n",
    "    return row_index,col_index\n",
    "\n",
    "#epsilon greedy implementation\n",
    "#epsilon chance of following the action denoted by the highest q value\n",
    "#otherwise explore randomly\n",
    "def get_next_action(row_index,col_index):\n",
    "    if np.random.random() < epsilon:\n",
    "        return np.argmax(q_values[row_index,col_index,:])\n",
    "    else:\n",
    "        return np.random.randint(4)\n",
    "\n",
    "#up right down left (0,1,2,3)\n",
    "#check for out of bounds before adding or subtracting to move\n",
    "#modification from video: use the action_index directly and do not store variables in new local variables\n",
    "def get_next_location(row_index,col_index,action_index):\n",
    "    if action_index == 0 and row_index > 0:\n",
    "        row_index -= 1\n",
    "    elif action_index == 1 and col_index < num_cols - 1:\n",
    "        col_index += 1\n",
    "    elif action_index == 2 and row_index < num_rows - 1:\n",
    "        row_index += 1\n",
    "    elif action_index == 3 and col_index > 0:\n",
    "        col_index -= 1\n",
    "    return row_index,col_index\n",
    "\n",
    "#append current location to shortest path list\n",
    "#the action to take is always argmax of the q_value at the location\n",
    "#update the row_index, col_index and iterate until terminal state reached\n",
    "def get_shortest_path(row_index,col_index):\n",
    "    shortest_path = []\n",
    "    \n",
    "    while True: \n",
    "        shortest_path.append([row_index,col_index])\n",
    "        \n",
    "        if is_terminal_state(row_index,col_index):\n",
    "            break\n",
    "        \n",
    "        action_index = np.argmax(q_values[row_index,col_index,:])\n",
    "        row_index,col_index = get_next_location(row_index,col_index,action_index)\n",
    "        \n",
    "    return shortest_path"
   ]
  },
  {
   "cell_type": "code",
   "execution_count": 28,
   "id": "3145da96",
   "metadata": {},
   "outputs": [],
   "source": [
    "for episode in range(1000):\n",
    "    row_index,col_index = get_starting_location()\n",
    "    \n",
    "    while not is_terminal_state(row_index,col_index):\n",
    "        \n",
    "        action_index = get_next_action(row_index,col_index)\n",
    "        \n",
    "        old_row_index,old_col_index = row_index,col_index\n",
    "        old_q_value = q_values[row_index,col_index,action_index]\n",
    "        \n",
    "        row_index,col_index = get_next_location(row_index,col_index,action_index)\n",
    "        reward = rewards[row_index,col_index]\n",
    "        \n",
    "        temporal_difference = reward + (discount_factor * np.max(q_values[row_index,col_index,:])) - old_q_value\n",
    "        \n",
    "        q_values[old_row_index,old_col_index, action_index] = old_q_value + learning_rate*temporal_difference"
   ]
  },
  {
   "cell_type": "code",
   "execution_count": 31,
   "id": "46bc52a3",
   "metadata": {},
   "outputs": [
    {
     "name": "stdout",
     "output_type": "stream",
     "text": [
      "[[3, 9], [2, 9], [1, 9], [1, 8], [1, 7], [1, 6], [1, 5], [0, 5]]\n",
      "[[5, 0], [5, 1], [5, 2], [5, 3], [4, 3], [3, 3], [3, 2], [3, 1], [2, 1], [1, 1], [1, 2], [1, 3], [1, 4], [1, 5], [0, 5]]\n",
      "[[9, 5], [9, 6], [9, 7], [8, 7], [7, 7], [7, 6], [7, 5], [6, 5], [5, 5], [5, 6], [5, 7], [4, 7], [3, 7], [2, 7], [1, 7], [1, 6], [1, 5], [0, 5]]\n"
     ]
    }
   ],
   "source": [
    "#paths are different from the ones in the video but are also valid optimal paths\n",
    "print(get_shortest_path(3,9))\n",
    "print(get_shortest_path(5,0))\n",
    "print(get_shortest_path(9,5))"
   ]
  },
  {
   "cell_type": "code",
   "execution_count": null,
   "id": "63bd255d",
   "metadata": {},
   "outputs": [],
   "source": []
  }
 ],
 "metadata": {
  "kernelspec": {
   "display_name": "Python 3 (ipykernel)",
   "language": "python",
   "name": "python3"
  },
  "language_info": {
   "codemirror_mode": {
    "name": "ipython",
    "version": 3
   },
   "file_extension": ".py",
   "mimetype": "text/x-python",
   "name": "python",
   "nbconvert_exporter": "python",
   "pygments_lexer": "ipython3",
   "version": "3.8.12"
  }
 },
 "nbformat": 4,
 "nbformat_minor": 5
}
