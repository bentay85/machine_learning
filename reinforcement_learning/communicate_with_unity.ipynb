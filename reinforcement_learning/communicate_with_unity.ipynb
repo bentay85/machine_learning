{
 "cells": [
  {
   "cell_type": "code",
   "execution_count": 6,
   "id": "6e5f13c8",
   "metadata": {},
   "outputs": [
    {
     "name": "stdout",
     "output_type": "stream",
     "text": [
      "1,0,0\n",
      "Hey I got your message Python! Do You see this message?\n",
      "2,0,0\n",
      "Hey I got your message Python! Do You see this message?\n",
      "3,0,0\n",
      "Hey I got your message Python! Do You see this message?\n",
      "4,0,0\n",
      "Hey I got your message Python! Do You see this message?\n",
      "5,0,0\n",
      "Hey I got your message Python! Do You see this message?\n"
     ]
    }
   ],
   "source": [
    "#https://github.com/CanYouCatchMe01/CSharp-and-Python-continuous-communication\n",
    "\n",
    "import socket\n",
    "import time\n",
    "\n",
    "host, port = \"127.0.0.1\", 25001\n",
    "sock = socket.socket(socket.AF_INET, socket.SOCK_STREAM)\n",
    "sock.connect((host, port))\n",
    "\n",
    "startPos = [0, 0, 0] #Vector3   x = 0, y = 0, z = 0\n",
    "\n",
    "for _ in range(5):\n",
    "    startPos[0] +=1 #increase x by one\n",
    "    posString = ','.join(map(str, startPos)) #Converting Vector3 to a string, example \"0,0,0\"\n",
    "    print(posString)\n",
    "\n",
    "    sock.sendall(posString.encode(\"UTF-8\")) #Converting string to Byte, and sending it to C#\n",
    "    receivedData = sock.recv(1024).decode(\"UTF-8\") #receiveing data in Byte fron C#, and converting it to String\n",
    "    print(receivedData)\n",
    "    time.sleep(0.5) #sleep 0.5 sec"
   ]
  },
  {
   "cell_type": "code",
   "execution_count": null,
   "id": "21bf072b",
   "metadata": {},
   "outputs": [],
   "source": []
  }
 ],
 "metadata": {
  "kernelspec": {
   "display_name": "Python 3 (ipykernel)",
   "language": "python",
   "name": "python3"
  },
  "language_info": {
   "codemirror_mode": {
    "name": "ipython",
    "version": 3
   },
   "file_extension": ".py",
   "mimetype": "text/x-python",
   "name": "python",
   "nbconvert_exporter": "python",
   "pygments_lexer": "ipython3",
   "version": "3.8.12"
  }
 },
 "nbformat": 4,
 "nbformat_minor": 5
}
