{
 "cells": [
  {
   "cell_type": "code",
   "execution_count": 3,
   "id": "6e5f13c8",
   "metadata": {},
   "outputs": [
    {
     "name": "stdout",
     "output_type": "stream",
     "text": [
      "Sent: 0,0,0.1 Received: I'm done\n",
      "Sent: 0,0,-0.1 Received: I'm done\n",
      "Sent: 0,0,0.1 Received: I'm done\n",
      "Sent: 0,0,-0.1 Received: I'm done\n",
      "Sent: 0,0,0.1 Received: I'm done\n",
      "Sent: 0,0,-0.1 Received: I'm done\n",
      "Sent: 0,0,0.1 Received: I'm done\n",
      "Sent: 0,0,-0.1 Received: I'm done\n"
     ]
    }
   ],
   "source": [
    "#Tutorial for communication with Unity: https://github.com/CanYouCatchMe01/CSharp-and-Python-continuous-communication\n",
    "#Start Unity game first then run this cell\n",
    "\n",
    "import socket\n",
    "\n",
    "host, port = \"127.0.0.1\", 25001\n",
    "sock = socket.socket(socket.AF_INET, socket.SOCK_STREAM)\n",
    "sock.connect((host, port))\n",
    "\n",
    "rotation = [[0,0,0.1],[0,0,-0.1]]\n",
    "\n",
    "for i in range(8):\n",
    "    send_string = ','.join(map(str, rotation[i%2])) #Converting Vector3 to a string, example \"0,0,0\"\n",
    "    sock.sendall(send_string.encode(\"UTF-8\")) #Converting string to Byte, and sending it to C#\n",
    "    receivedData = sock.recv(1024).decode(\"UTF-8\") #Received Data is blocking and will not proceed until unity replies\n",
    "    print(\"Sent: \" + send_string + \" Received: \"+receivedData)"
   ]
  },
  {
   "cell_type": "code",
   "execution_count": null,
   "id": "a9530ead",
   "metadata": {},
   "outputs": [],
   "source": []
  }
 ],
 "metadata": {
  "kernelspec": {
   "display_name": "Python 3 (ipykernel)",
   "language": "python",
   "name": "python3"
  },
  "language_info": {
   "codemirror_mode": {
    "name": "ipython",
    "version": 3
   },
   "file_extension": ".py",
   "mimetype": "text/x-python",
   "name": "python",
   "nbconvert_exporter": "python",
   "pygments_lexer": "ipython3",
   "version": "3.8.12"
  }
 },
 "nbformat": 4,
 "nbformat_minor": 5
}
