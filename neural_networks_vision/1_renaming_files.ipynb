{
 "cells": [
  {
   "cell_type": "code",
   "execution_count": 5,
   "id": "a8c8c8c2",
   "metadata": {},
   "outputs": [],
   "source": [
    "import os"
   ]
  },
  {
   "cell_type": "code",
   "execution_count": 17,
   "id": "5bdff0cc",
   "metadata": {},
   "outputs": [],
   "source": [
    "#Renaming all the files in the yes folder\n",
    "\n",
    "folder_path = r'D:\\data\\vision_brain_tumor_cleaned\\yes'\n",
    "os.listdir(folder_path)\n",
    "\n",
    "i=1\n",
    "for filename in os.listdir(folder_path):\n",
    "    os.rename(folder_path + \"\\\\\" + filename,folder_path+\"\\\\\"+str(i)+\".jpg\")\n",
    "    i+=1"
   ]
  },
  {
   "cell_type": "code",
   "execution_count": 15,
   "id": "8f06d581",
   "metadata": {},
   "outputs": [],
   "source": [
    "#Renaming all the files in the no folder\n",
    "folder_path = r'D:\\data\\vision_brain_tumor_cleaned\\no'\n",
    "os.listdir(folder_path)\n",
    "\n",
    "i=1\n",
    "for filename in os.listdir(folder_path):\n",
    "    os.rename(folder_path + \"\\\\\" + filename,folder_path+\"\\\\\"+str(i)+\".jpg\")\n",
    "    i+=1"
   ]
  },
  {
   "cell_type": "code",
   "execution_count": null,
   "id": "d721c537",
   "metadata": {},
   "outputs": [],
   "source": []
  }
 ],
 "metadata": {
  "kernelspec": {
   "display_name": "Python 3 (ipykernel)",
   "language": "python",
   "name": "python3"
  },
  "language_info": {
   "codemirror_mode": {
    "name": "ipython",
    "version": 3
   },
   "file_extension": ".py",
   "mimetype": "text/x-python",
   "name": "python",
   "nbconvert_exporter": "python",
   "pygments_lexer": "ipython3",
   "version": "3.8.12"
  }
 },
 "nbformat": 4,
 "nbformat_minor": 5
}
