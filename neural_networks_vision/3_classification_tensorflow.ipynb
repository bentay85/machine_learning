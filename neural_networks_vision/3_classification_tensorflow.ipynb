{
 "cells": [
  {
   "cell_type": "code",
   "execution_count": 1,
   "id": "924027ee",
   "metadata": {},
   "outputs": [
    {
     "name": "stdout",
     "output_type": "stream",
     "text": [
      "Found 4 images belonging to 1 classes.\n",
      "zucchini,courgette,\n",
      "redfox,Vulpesvulpes,\n",
      "fryingpan,frypan,skillet,\n",
      "anemonefish,\n"
     ]
    }
   ],
   "source": [
    "# Learn to use keras applications: https://keras.io/api/applications/\n",
    "import tensorflow as tf\n",
    "import numpy as np\n",
    "\n",
    "from tensorflow import keras\n",
    "from tensorflow.keras.applications import MobileNetV2\n",
    "from tensorflow.keras.preprocessing.image import ImageDataGenerator\n",
    "from tensorflow.keras.applications.mobilenet_v2 import preprocess_input\n",
    "from tensorflow import convert_to_tensor\n",
    "\n",
    "# Use the following line to download the weights to C:\\Users\\<<username>>\\.keras\\models\n",
    "#model = MobileNetV2(weights='imagenet')\n",
    "\n",
    "# I shfited the weights to my own folder\n",
    "model = MobileNetV2(weights='D:/data/vision_imagenet/mobilenetv2_pre_trained.h5')\n",
    "\n",
    "img_path = 'D:/data/vision_imagenet/test_images/'\n",
    "\n",
    "def mobilenet_preprocess(img):\n",
    "    return convert_to_tensor(preprocess_input(img), dtype=tf.float32)\n",
    "    \n",
    "test_datagen = ImageDataGenerator(preprocessing_function = mobilenet_preprocess)\n",
    "test_generator = test_datagen.flow_from_directory(\n",
    "    img_path,\n",
    "    target_size=(224, 224),\n",
    "    batch_size=64,\n",
    "    shuffle = False\n",
    ")\n",
    "\n",
    "# Generating dictionary to return class \n",
    "imagenet_classes = {}\n",
    "with open(\"D:/data/vision_imagenet/imagenet1000_clsidx_to_labels.txt\") as f:\n",
    "    for line in f:\n",
    "        line = line.replace(\" \", \"\")\n",
    "        line = line.replace(\"\\n\", \"\")\n",
    "        line = line.replace(\"'\", \"\")\n",
    "        [key,val]=line.split(\":\")\n",
    "        imagenet_classes[int(key)] = val\n",
    "\n",
    "# Performing Inference\n",
    "img, _ = test_generator.next()\n",
    "preds = model(img)\n",
    "preds = np.argmax(preds,axis=1)\n",
    "\n",
    "# printing out the predicted classes\n",
    "# Interesting that the VGG (pytorch) classified the first image as cucumber\n",
    "# While Mobilenet classified it as a zucchini\n",
    "\n",
    "for i in range(len(preds)):\n",
    "    print(imagenet_classes[preds[i]])"
   ]
  },
  {
   "cell_type": "code",
   "execution_count": null,
   "id": "7e7ffd8f",
   "metadata": {},
   "outputs": [],
   "source": []
  }
 ],
 "metadata": {
  "kernelspec": {
   "display_name": "Python 3 (ipykernel)",
   "language": "python",
   "name": "python3"
  },
  "language_info": {
   "codemirror_mode": {
    "name": "ipython",
    "version": 3
   },
   "file_extension": ".py",
   "mimetype": "text/x-python",
   "name": "python",
   "nbconvert_exporter": "python",
   "pygments_lexer": "ipython3",
   "version": "3.8.12"
  }
 },
 "nbformat": 4,
 "nbformat_minor": 5
}
