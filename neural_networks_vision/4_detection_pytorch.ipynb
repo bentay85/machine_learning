{
 "cells": [
  {
   "cell_type": "code",
   "execution_count": 14,
   "id": "54a157ab",
   "metadata": {},
   "outputs": [],
   "source": [
    "import torchvision\n",
    "import torch\n",
    "from torchvision import transforms\n",
    "from torch.utils.data import DataLoader\n",
    "\n",
    "input_size = 800\n",
    "\n",
    "#model = torchvision.models.detection.fasterrcnn_resnet50_fpn(pretrained=True)\n",
    "\n",
    "# for inference, we need to resize the image to the correct size, then make it into a tensor\n",
    "# the normalisation is following the Pytorch documentation, these were the parameters they used during training\n",
    "transform = transforms.Compose([\n",
    "        transforms.Resize([input_size,input_size]),\n",
    "        transforms.ToTensor(),\n",
    "    ])\n",
    "\n",
    "# there are 4 test images in this folder I got off google: cucumber, fox, frying pan and a nemo fish\n",
    "# just to test that the base classifier is working as intended\n",
    "data = torchvision.datasets.ImageFolder(root = \"D:/data/vision_imagenet/test_images\", transform = transform)\n",
    "\n",
    "test_data_loader = DataLoader(data, batch_size=12, shuffle = False)\n",
    "\n",
    "net = torchvision.models.detection.fasterrcnn_resnet50_fpn(pretrained=False, pretrained_backbone=False)\n",
    "\n",
    "# loading the pre-trained model\n",
    "net.load_state_dict(torch.load(\"D:/data/vision_fasterrcnn/fasterrcnn_resnet50_fpn_coco-258fb6c6.pth\"))\n",
    "net.eval()\n",
    "\n",
    "x, _ = next(iter(test_data_loader))\n",
    "predictions = net(x)"
   ]
  },
  {
   "cell_type": "code",
   "execution_count": 21,
   "id": "119ba330",
   "metadata": {},
   "outputs": [
    {
     "data": {
      "text/plain": [
       "{'boxes': tensor([[0.0000e+00, 4.8375e+00, 6.4746e+02, 7.6745e+02],\n",
       "         [6.5492e+02, 3.9822e+02, 7.9948e+02, 7.8267e+02],\n",
       "         [5.9532e+02, 4.6959e+01, 8.0000e+02, 7.6695e+02],\n",
       "         [3.8117e+02, 2.7486e+02, 6.4162e+02, 7.9263e+02],\n",
       "         [6.3356e+01, 1.4605e+02, 6.0239e+02, 7.5143e+02],\n",
       "         [2.6803e+02, 3.1167e+02, 3.8512e+02, 5.5224e+02],\n",
       "         [4.0369e+00, 5.5057e-01, 2.9279e+02, 5.7592e+02],\n",
       "         [5.8088e+02, 2.9920e+02, 6.9839e+02, 7.7389e+02],\n",
       "         [7.9184e+00, 1.4419e+01, 1.3761e+02, 5.9562e+02],\n",
       "         [2.9203e+02, 2.4136e+02, 5.7384e+02, 5.4785e+02],\n",
       "         [5.2754e+02, 1.9447e+02, 7.5621e+02, 7.7949e+02],\n",
       "         [2.9901e+01, 4.5240e+02, 4.3305e+02, 7.9572e+02],\n",
       "         [2.6662e+02, 2.4397e+02, 5.7550e+02, 5.5134e+02],\n",
       "         [0.0000e+00, 2.2746e+02, 4.4492e+02, 7.7446e+02],\n",
       "         [6.1052e+02, 4.1955e+02, 7.4679e+02, 8.0000e+02],\n",
       "         [3.6369e+02, 6.4667e+01, 7.6667e+02, 7.7983e+02],\n",
       "         [1.9366e+02, 2.3668e+02, 5.7504e+02, 5.8192e+02],\n",
       "         [1.9662e+02, 2.5853e+02, 4.1010e+02, 5.5475e+02]],\n",
       "        grad_fn=<StackBackward0>),\n",
       " 'labels': tensor([ 1,  1,  1,  1, 88, 32,  1,  1,  1, 16,  1, 86, 38,  1,  1,  1, 88, 32]),\n",
       " 'scores': tensor([0.8454, 0.7445, 0.7119, 0.2774, 0.2431, 0.2164, 0.2047, 0.1869, 0.1849,\n",
       "         0.1262, 0.1107, 0.0991, 0.0930, 0.0814, 0.0755, 0.0649, 0.0598, 0.0587],\n",
       "        grad_fn=<IndexBackward0>)}"
      ]
     },
     "execution_count": 21,
     "metadata": {},
     "output_type": "execute_result"
    }
   ],
   "source": [
    "predictions[3]"
   ]
  },
  {
   "cell_type": "code",
   "execution_count": null,
   "id": "b4e2b4e3",
   "metadata": {},
   "outputs": [],
   "source": []
  }
 ],
 "metadata": {
  "kernelspec": {
   "display_name": "Python 3 (ipykernel)",
   "language": "python",
   "name": "python3"
  },
  "language_info": {
   "codemirror_mode": {
    "name": "ipython",
    "version": 3
   },
   "file_extension": ".py",
   "mimetype": "text/x-python",
   "name": "python",
   "nbconvert_exporter": "python",
   "pygments_lexer": "ipython3",
   "version": "3.8.12"
  }
 },
 "nbformat": 4,
 "nbformat_minor": 5
}
